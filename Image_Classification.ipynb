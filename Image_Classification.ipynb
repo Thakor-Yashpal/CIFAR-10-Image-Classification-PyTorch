{
  "nbformat": 4,
  "nbformat_minor": 0,
  "metadata": {
    "colab": {
      "provenance": [],
      "gpuType": "T4"
    },
    "kernelspec": {
      "name": "python3",
      "display_name": "Python 3"
    },
    "language_info": {
      "name": "python"
    },
    "accelerator": "GPU"
  },
  "cells": [
    {
      "cell_type": "code",
      "source": [
        "!pip install pillow"
      ],
      "metadata": {
        "colab": {
          "base_uri": "https://localhost:8080/"
        },
        "id": "SnibT4gg_Zhd",
        "outputId": "58b502e1-d092-43b5-b264-d35bfd770d29"
      },
      "execution_count": 4,
      "outputs": [
        {
          "output_type": "stream",
          "name": "stdout",
          "text": [
            "Requirement already satisfied: pillow in /usr/local/lib/python3.11/dist-packages (11.2.1)\n"
          ]
        }
      ]
    },
    {
      "cell_type": "code",
      "execution_count": 211,
      "metadata": {
        "id": "jHNvBQHHn32g"
      },
      "outputs": [],
      "source": [
        "import numpy as np\n",
        "from PIL import Image\n",
        "\n",
        "import torch\n",
        "from torch import nn\n",
        "from torch.nn import functional as F\n",
        "from torch import optim\n",
        "\n",
        "import torch.optim as optim\n",
        "import torchvision\n",
        "import torchvision.transforms as transforms\n"
      ]
    },
    {
      "cell_type": "code",
      "source": [
        "device = torch.device('cuda' if torch.cuda.is_available() else 'cpu')\n",
        "print(device)"
      ],
      "metadata": {
        "colab": {
          "base_uri": "https://localhost:8080/"
        },
        "id": "nEAsO-hgMnpc",
        "outputId": "72cddb14-6c94-437c-c67f-de0d5b23dc0d"
      },
      "execution_count": 212,
      "outputs": [
        {
          "output_type": "stream",
          "name": "stdout",
          "text": [
            "cuda\n"
          ]
        }
      ]
    },
    {
      "cell_type": "code",
      "source": [
        "transform = transforms.Compose([\n",
        "    transforms.RandomHorizontalFlip(),\n",
        "    transforms.RandomRotation(10),\n",
        "    transforms.ColorJitter(brightness=0.2, contrast=0.2, saturation=0.2),\n",
        "    transforms.ToTensor(),\n",
        "    # Define mean and std for normalization\n",
        "    transforms.Normalize(mean=[0.4914, 0.4822, 0.4465], std=[0.2023, 0.1994, 0.2010])\n",
        "])"
      ],
      "metadata": {
        "id": "0nLrRqlIAtOT"
      },
      "execution_count": 213,
      "outputs": []
    },
    {
      "cell_type": "code",
      "source": [
        "train_data = torchvision.datasets.CIFAR10(root='/data',train = True ,transform=transform,download = True)\n",
        "test_data = torchvision.datasets.CIFAR10(root='/data',train = False ,transform=transform,download = True)\n",
        "train_loader = torch.utils.data.DataLoader(train_data, batch_size = 10, shuffle=True, num_workers = 2)\n",
        "test_loader = torch.utils.data.DataLoader(test_data, batch_size = 10, shuffle=False, num_workers = 2)"
      ],
      "metadata": {
        "id": "YNX948EmAttz"
      },
      "execution_count": 214,
      "outputs": []
    },
    {
      "cell_type": "code",
      "source": [
        "image, label = train_data[0]"
      ],
      "metadata": {
        "id": "uDbwIXvWBdZa"
      },
      "execution_count": 215,
      "outputs": []
    },
    {
      "cell_type": "code",
      "source": [
        "image.shape"
      ],
      "metadata": {
        "colab": {
          "base_uri": "https://localhost:8080/"
        },
        "id": "15GAWQTDBp3q",
        "outputId": "60ffbd5b-9561-44e2-fc26-71c906452ed9"
      },
      "execution_count": 216,
      "outputs": [
        {
          "output_type": "execute_result",
          "data": {
            "text/plain": [
              "torch.Size([3, 32, 32])"
            ]
          },
          "metadata": {},
          "execution_count": 216
        }
      ]
    },
    {
      "cell_type": "code",
      "source": [
        "class_name = ['plane', 'car', 'bird', 'cat', 'dog', 'frog', 'horse', 'ship', 'truck']\n",
        "\n",
        "\n",
        "class NeuralNet(nn.Module):\n",
        "    def __init__(self):\n",
        "        super().__init__()\n",
        "\n",
        "        # Input shape: (3, 32, 32) - assuming CIFAR-10\n",
        "        self.conv1 = nn.Conv2d(3, 12, 5)       # Output: (12, 28, 28)\n",
        "        self.pool = nn.MaxPool2d(2, 2)         # Output: (12, 14, 14)\n",
        "        self.conv2 = nn.Conv2d(12, 16, 5)      # Output: (16, 10, 10) -> then pooled to (16, 5, 5)\n",
        "\n",
        "        # Flattened shape = 16 * 5 * 5 = 400\n",
        "        self.fc1 = nn.Linear(16 * 5 * 5, 120)\n",
        "        self.fc2 = nn.Linear(120, 84)\n",
        "        self.fc3 = nn.Linear(84, 10)          # 10 classes for CIFAR-10\n",
        "\n",
        "    def forward(self, x):\n",
        "        x = self.pool(F.relu(self.conv1(x)))   # (12, 14, 14)\n",
        "        x = self.pool(F.relu(self.conv2(x)))   # (16, 5, 5)\n",
        "        x = torch.flatten(x, 1)                # Flatten except batch dim\n",
        "        x = F.relu(self.fc1(x))\n",
        "        x = F.relu(self.fc2(x))\n",
        "        x = self.fc3(x)                        # Raw output logits\n",
        "        return x\n"
      ],
      "metadata": {
        "id": "--RXsW4GBt3h"
      },
      "execution_count": 256,
      "outputs": []
    },
    {
      "cell_type": "code",
      "source": [
        "net = NeuralNet()\n",
        "loss_fuction = nn.CrossEntropyLoss()\n",
        "optimizer = optim.SGD(net.parameters(), lr=0.001,momentum = 0.9)"
      ],
      "metadata": {
        "id": "TQRxnHrPFArS"
      },
      "execution_count": 218,
      "outputs": []
    },
    {
      "cell_type": "code",
      "source": [],
      "metadata": {
        "id": "iK6sRFEQFNaJ"
      },
      "execution_count": 218,
      "outputs": []
    },
    {
      "cell_type": "code",
      "source": [
        "for epoch in range(25):\n",
        "    print(f\"Training epoch {epoch}....\")\n",
        "\n",
        "    running_loss = 0.0\n",
        "    for i, data in enumerate(train_loader):\n",
        "        inputs, labels = data\n",
        "\n",
        "\n",
        "        optimizer.zero_grad()\n",
        "\n",
        "        outputs = net(inputs)\n",
        "        loss = loss_fuction(outputs, labels)\n",
        "\n",
        "        loss.backward()\n",
        "        optimizer.step()\n",
        "\n",
        "        running_loss += loss.item()\n",
        "    print(f\"Loss :  {running_loss/ len(train_loader)}..:4f \")"
      ],
      "metadata": {
        "colab": {
          "base_uri": "https://localhost:8080/"
        },
        "id": "tH2wH5HnFORP",
        "outputId": "f7ca1c03-a0dd-4183-ecc9-5bd1bba5052c"
      },
      "execution_count": 219,
      "outputs": [
        {
          "output_type": "stream",
          "name": "stdout",
          "text": [
            "Training epoch 0....\n",
            "Loss :  1.7520251557111741..:4f \n",
            "Training epoch 1....\n",
            "Loss :  1.3869882946550847..:4f \n",
            "Training epoch 2....\n",
            "Loss :  1.2432738650500774..:4f \n",
            "Training epoch 3....\n",
            "Loss :  1.1636890930354595..:4f \n",
            "Training epoch 4....\n",
            "Loss :  1.1025043841332198..:4f \n",
            "Training epoch 5....\n",
            "Loss :  1.0542764886647462..:4f \n",
            "Training epoch 6....\n",
            "Loss :  1.011657535135746..:4f \n",
            "Training epoch 7....\n",
            "Loss :  0.9823353225022554..:4f \n",
            "Training epoch 8....\n",
            "Loss :  0.9525776308715344..:4f \n",
            "Training epoch 9....\n",
            "Loss :  0.9296823762834072..:4f \n",
            "Training epoch 10....\n",
            "Loss :  0.912336868211627..:4f \n",
            "Training epoch 11....\n",
            "Loss :  0.8938086249530316..:4f \n",
            "Training epoch 12....\n",
            "Loss :  0.8778356862187385..:4f \n",
            "Training epoch 13....\n",
            "Loss :  0.8671634325325489..:4f \n",
            "Training epoch 14....\n",
            "Loss :  0.8564256098523736..:4f \n",
            "Training epoch 15....\n",
            "Loss :  0.8463052444770932..:4f \n",
            "Training epoch 16....\n",
            "Loss :  0.8317365749612451..:4f \n",
            "Training epoch 17....\n",
            "Loss :  0.8308298120498657..:4f \n",
            "Training epoch 18....\n",
            "Loss :  0.818156075656414..:4f \n",
            "Training epoch 19....\n",
            "Loss :  0.8145532231837511..:4f \n",
            "Training epoch 20....\n",
            "Loss :  0.8038799433633685..:4f \n",
            "Training epoch 21....\n",
            "Loss :  0.7980104708589614..:4f \n",
            "Training epoch 22....\n",
            "Loss :  0.791610663484037..:4f \n",
            "Training epoch 23....\n",
            "Loss :  0.7872096233926713..:4f \n",
            "Training epoch 24....\n",
            "Loss :  0.7821831922233105..:4f \n"
          ]
        }
      ]
    },
    {
      "cell_type": "code",
      "source": [
        "torch.save(net.state_dict(),\"trained_net.pth\")"
      ],
      "metadata": {
        "id": "cBA9gn-rHccw"
      },
      "execution_count": 257,
      "outputs": []
    },
    {
      "cell_type": "code",
      "source": [
        "net = NeuralNet()\n",
        "\n",
        "net.load_state_dict(torch.load(\"trained_net.pth\"))"
      ],
      "metadata": {
        "colab": {
          "base_uri": "https://localhost:8080/"
        },
        "id": "_G42et9tH3ov",
        "outputId": "8e1cdee1-a665-4027-b27c-14294f357759"
      },
      "execution_count": 258,
      "outputs": [
        {
          "output_type": "execute_result",
          "data": {
            "text/plain": [
              "<All keys matched successfully>"
            ]
          },
          "metadata": {},
          "execution_count": 258
        }
      ]
    },
    {
      "cell_type": "code",
      "source": [
        "correct = 0\n",
        "total = 0\n",
        "net.eval()\n",
        "\n",
        "with torch.no_grad():\n",
        "  for data in test_loader:\n",
        "    images, labels = data\n",
        "    outputs = net(images)\n",
        "    _, predicted = torch.max(outputs, 1)\n",
        "    total += labels.size(0)\n",
        "    correct += (predicted == labels).sum().item()\n",
        "\n",
        "accurcy = 100 * correct /total\n",
        "\n",
        "print(f'Accurcy : {accurcy}%')"
      ],
      "metadata": {
        "colab": {
          "base_uri": "https://localhost:8080/"
        },
        "id": "Ky7i7bRTIFik",
        "outputId": "ab462dcb-4130-4c2d-80cf-9aaa881cf124"
      },
      "execution_count": 259,
      "outputs": [
        {
          "output_type": "stream",
          "name": "stdout",
          "text": [
            "Accurcy : 68.3%\n"
          ]
        }
      ]
    },
    {
      "cell_type": "code",
      "source": [
        "\n",
        "new_transform = transforms.Compose([\n",
        "    transforms.Resize((32, 32)), # Resize to 32x32, the size used for training\n",
        "    transforms.ToTensor(),\n",
        "    # Keep the same normalization used during training\n",
        "    transforms.Normalize((0.5,0.5,0.5),(0.5,0.5,0.5))\n",
        "])\n",
        "\n",
        "def load_image(image_path):\n",
        "    image = Image.open(image_path)\n",
        "    image = new_transform(image)\n",
        "    image = image.unsqueeze(0)\n",
        "    return image\n",
        "\n",
        "# Assuming image_paths is defined elsewhere and contains the paths to your images\n",
        "image_paths = [\"/content/images/plan.jpg\",\"/content/images/Dog01.jpg\"]\n",
        "images = [load_image(img) for img in image_paths]\n"
      ],
      "metadata": {
        "id": "lABCmv-gJfif"
      },
      "execution_count": 268,
      "outputs": []
    },
    {
      "cell_type": "code",
      "source": [
        "net.eval()\n",
        "with torch.no_grad():\n",
        "  # Iterate through the list of loaded images\n",
        "  for image in images:\n",
        "    outputs = net(image)\n",
        "\n",
        "    _, predicted = torch.max(outputs, 1)\n",
        "    # Print the predicted class for each image\n",
        "    print(\"Predicted class:\", class_name[predicted.item()])"
      ],
      "metadata": {
        "colab": {
          "base_uri": "https://localhost:8080/"
        },
        "id": "eJl6PzFlK1-A",
        "outputId": "58e25664-c9a4-490e-8223-368af07445a9"
      },
      "execution_count": 269,
      "outputs": [
        {
          "output_type": "stream",
          "name": "stdout",
          "text": [
            "Predicted class: plane\n",
            "Predicted class: dog\n"
          ]
        }
      ]
    }
  ]
}